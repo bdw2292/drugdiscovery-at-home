{
 "cells": [
  {
   "cell_type": "code",
   "execution_count": 2,
   "metadata": {
    "init_cell": true
   },
   "outputs": [
    {
     "data": {
      "application/vnd.jupyter.widget-view+json": {
       "model_id": "6162aa9deb7747d8b3c108e89367d1e4",
       "version_major": 2,
       "version_minor": 0
      },
      "text/plain": [
       "Fullscreen()"
      ]
     },
     "metadata": {},
     "output_type": "display_data"
    },
    {
     "data": {
      "text/html": [
       "\n",
       "    <style>\n",
       "    .abc {\n",
       "        background: white\n",
       "    }\n",
       "    </style>\n",
       "    "
      ],
      "text/plain": [
       "<IPython.core.display.HTML object>"
      ]
     },
     "metadata": {},
     "output_type": "display_data"
    },
    {
     "data": {
      "application/vnd.jupyter.widget-view+json": {
       "model_id": "fc510842a58e42da8269c108b7eb66c4",
       "version_major": 2,
       "version_minor": 0
      },
      "text/plain": [
       "GridBox(children=(Box(children=(NGLWidget(layout=Layout(width='100%'), max_frame=9),)),), _dom_classes=('abc',…"
      ]
     },
     "metadata": {},
     "output_type": "display_data"
    }
   ],
   "source": [
    "import os\n",
    "from ipywidgets import Textarea, Play, GridBox, GridspecLayout, Box\n",
    "from fullscreen import Fullscreen\n",
    "from IPython.display import display, HTML\n",
    "import nglview as nv\n",
    "import mdtraj as md\n",
    "import time\n",
    "import multiprocessing\n",
    "\n",
    "\n",
    "def SendStopKeyboardInputSignal():\n",
    "    temp=open('stopkeyboardinput.txt','w')\n",
    "    temp.close()\n",
    "\n",
    "def UpdateViewer(view,traj):\n",
    "    view.clear()\n",
    "    view.add_trajectory(traj)\n",
    "    \n",
    "def StartPlayer(traj,view,trajectory_path,delaytime):\n",
    "    p=None\n",
    "    while True:\n",
    "        if p==None:\n",
    "            if os.path.exists('readytoappend.txt'):\n",
    "                os.remove('readytoappend.txt')\n",
    "                p = multiprocessing.Process(target=LoadTrajectory, args=(trajectory_path,))\n",
    "                p.start()\n",
    "            else:\n",
    "                PlayTrajectory(frames,delaytime,view)\n",
    "        else:\n",
    "            while p.is_alive():\n",
    "                PlayTrajectory(frames,delaytime,view)\n",
    "            p.join()\n",
    "            UpdateViewer(view,traj)\n",
    "            frames=traj.n_frames  \n",
    "            p=None\n",
    "                \n",
    "def PlayTrajectory(frames,delaytime,view):\n",
    "    for i in range(1,frames+1):\n",
    "        time.sleep(delaytime)\n",
    "        view.frame=i\n",
    "        \n",
    "def LoadTrajectory(trajectory_path):\n",
    "    traj=md.load_arc(trajectory_path)\n",
    "    return traj\n",
    "\n",
    "def DisplayFullView(traj):\n",
    "    v = nv.show_mdtraj(traj)\n",
    "    v.layout.width = '100%'\n",
    "    b = GridBox([Box([v])])\n",
    "    fs = Fullscreen(b, [v])\n",
    "    display(fs)\n",
    "\n",
    "    b.add_class('abc')\n",
    "\n",
    "    display(HTML(\"\"\"\n",
    "    <style>\n",
    "    .abc {\n",
    "        background: white\n",
    "    }\n",
    "    </style>\n",
    "    \"\"\"))\n",
    "    return b,v,fs\n",
    "\n",
    "delaytime=.05\n",
    "BASE_DIR = os.path.abspath('')\n",
    "xyzfilename='initialpdb.xyz'\n",
    "xyzfile_path=BASE_DIR+'/'+xyzfilename\n",
    "trajectory_path=xyzfile_path.replace('.xyz','.arc')\n",
    "\n",
    "\n",
    "traj=LoadTrajectory(trajectory_path)\n",
    "box,view,fs=DisplayFullView(traj)\n",
    "box"
   ]
  },
  {
   "cell_type": "code",
   "execution_count": 3,
   "metadata": {},
   "outputs": [],
   "source": [
    "fs.fullscreen()"
   ]
  },
  {
   "cell_type": "code",
   "execution_count": null,
   "metadata": {},
   "outputs": [],
   "source": [
    "SendStopKeyboardInputSignal()\n",
    "StartPlayer(traj,view,trajectory_path,delaytime)"
   ]
  }
 ],
 "metadata": {
  "celltoolbar": "Initialization Cell",
  "kernelspec": {
   "display_name": "Python 3",
   "language": "python",
   "name": "python3"
  },
  "language_info": {
   "codemirror_mode": {
    "name": "ipython",
    "version": 3
   },
   "file_extension": ".py",
   "mimetype": "text/x-python",
   "name": "python",
   "nbconvert_exporter": "python",
   "pygments_lexer": "ipython3",
   "version": "3.8.5"
  }
 },
 "nbformat": 4,
 "nbformat_minor": 4
}
