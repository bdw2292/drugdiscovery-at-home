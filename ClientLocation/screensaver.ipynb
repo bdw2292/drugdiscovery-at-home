{
 "cells": [
  {
   "cell_type": "code",
   "execution_count": 1,
   "metadata": {
    "init_cell": true,
    "scrolled": true
   },
   "outputs": [
    {
     "data": {
      "application/vnd.jupyter.widget-view+json": {
       "model_id": "4ee1da3984544cc8a3ebd106baa8a0e1",
       "version_major": 2,
       "version_minor": 0
      },
      "text/plain": []
     },
     "metadata": {},
     "output_type": "display_data"
    },
    {
     "data": {
      "application/vnd.jupyter.widget-view+json": {
       "model_id": "e885c4c4432e42a28fb3211979fd680d",
       "version_major": 2,
       "version_minor": 0
      },
      "text/plain": [
       "Fullscreen()"
      ]
     },
     "metadata": {},
     "output_type": "display_data"
    },
    {
     "data": {
      "text/html": [
       "\n",
       "    <style>\n",
       "    .abc {\n",
       "        background: white\n",
       "    }\n",
       "    </style>\n",
       "    "
      ],
      "text/plain": [
       "<IPython.core.display.HTML object>"
      ]
     },
     "metadata": {},
     "output_type": "display_data"
    },
    {
     "data": {
      "application/vnd.jupyter.widget-view+json": {
       "model_id": "e3593995a88042da8cd3ca9f97cbca3d",
       "version_major": 2,
       "version_minor": 0
      },
      "text/plain": [
       "GridBox(children=(Box(children=(NGLWidget(layout=Layout(width='100%'), max_frame=9),)),), _dom_classes=('abc',…"
      ]
     },
     "metadata": {},
     "output_type": "display_data"
    },
    {
     "data": {
      "application/javascript": [
       "Jupyter.notebook.execute_cells([1])"
      ],
      "text/plain": [
       "<IPython.core.display.Javascript object>"
      ]
     },
     "metadata": {},
     "output_type": "display_data"
    }
   ],
   "source": [
    "import os\n",
    "import queue\n",
    "from ipywidgets import Textarea, Play, GridBox, GridspecLayout, Box\n",
    "from fullscreen import Fullscreen\n",
    "from IPython.display import display, HTML, clear_output, Javascript\n",
    "import nglview as nv\n",
    "import mdtraj as md\n",
    "import time\n",
    "import multiprocessing\n",
    "from idle_time import IdleMonitor\n",
    "import threading\n",
    "import pyautogui\n",
    "from pynput import keyboard\n",
    "\n",
    "global user_input\n",
    "\n",
    "user_input=None\n",
    "\n",
    "def on_press(key):\n",
    "    global user_input\n",
    "    if key == keyboard.Key.esc:\n",
    "        user_input = 'esc'\n",
    "        \n",
    " \n",
    "def on_release(key):\n",
    "    if key == keyboard.Key.esc:\n",
    "        # Stop listener\n",
    "        return False\n",
    "\n",
    "def FakeKeyboardInput():\n",
    "    pyautogui.keyDown('shift')\n",
    "    time.sleep(.2)\n",
    "    pyautogui.keyDown('enter')\n",
    "    time.sleep(.2)\n",
    "    pyautogui.keyUp('shift')\n",
    "    time.sleep(.2)\n",
    "    pyautogui.keyUp('enter')\n",
    "\n",
    "def UpdateViewer(view,traj):\n",
    "    view.clear()\n",
    "    view.add_trajectory(traj)\n",
    "    \n",
    "def ConvertSecondsToMinutes(currenttime):\n",
    "    return currenttime/60\n",
    "    \n",
    "def StartPlayer(traj,view,trajectory_path,delaytime,screensleeptime,fs,box):\n",
    "    monitor = IdleMonitor.get_monitor()\n",
    "    p=None\n",
    "    while True:\n",
    "        idletime=ConvertSecondsToMinutes(monitor.get_idle_time())\n",
    "        if user_input=='esc':\n",
    "            fs._is_fullscreen=False\n",
    "        if idletime>=screensleeptime and fs._is_fullscreen==False:\n",
    "            break\n",
    "\n",
    "        if p==None:\n",
    "            if os.path.exists('readytoappend.txt'):\n",
    "                os.remove('readytoappend.txt')\n",
    "                p = multiprocessing.Process(target=LoadTrajectory, args=(trajectory_path,))\n",
    "                p.start()\n",
    "            else:\n",
    "                frames=traj.n_frames \n",
    "                PlayTrajectory(frames,delaytime,view)\n",
    "        else:\n",
    "            frames=traj.n_frames \n",
    "            while p.is_alive():\n",
    "                idletime=ConvertSecondsToMinutes(monitor.get_idle_time())\n",
    "                if user_input=='esc':\n",
    "                    fs._is_fullscreen=False\n",
    "                if idletime>=screensleeptime and fs._is_fullscreen==False:\n",
    "                    break\n",
    "                PlayTrajectory(frames,delaytime,view)\n",
    "            if idletime>=screensleeptime:\n",
    "                break\n",
    "            p.join()\n",
    "            UpdateViewer(view,traj)\n",
    "            frames=traj.n_frames  \n",
    "            p=None\n",
    "    return fs,traj,view\n",
    "        \n",
    "    \n",
    "                \n",
    "def PlayTrajectory(frames,delaytime,view):\n",
    "    for i in range(1,frames+1):\n",
    "        time.sleep(delaytime)\n",
    "        view.frame=i\n",
    "        \n",
    "def LoadTrajectory(trajectory_path):\n",
    "    traj=md.load_arc(trajectory_path)\n",
    "    return traj\n",
    "\n",
    "def DisplayBox(box):\n",
    "    display(box)\n",
    "    \n",
    "    \n",
    "def DisplayFullView(v):\n",
    "    v.layout.width = '100%'\n",
    "    b = GridBox([Box([v])])\n",
    "    fs = Fullscreen(b, [v])\n",
    "    display(fs)\n",
    "\n",
    "    b.add_class('abc')\n",
    "    #v.handle_resize()\n",
    "    display(HTML(\"\"\"\n",
    "    <style>\n",
    "    .abc {\n",
    "        background: white\n",
    "    }\n",
    "    </style>\n",
    "    \"\"\"))\n",
    "    thread = threading.Thread(target=DisplayBox, args=(b,))\n",
    "    thread.start()\n",
    "    \n",
    "    return b,v,fs\n",
    "\n",
    "\n",
    "\n",
    "delaytime=.05\n",
    "screensleeptime=.1\n",
    "BASE_DIR = os.path.abspath('')\n",
    "xyzfilename='initialpdb.xyz'\n",
    "xyzfile_path=BASE_DIR+'/'+xyzfilename\n",
    "trajectory_path=xyzfile_path.replace('.xyz','.arc')\n",
    "\n",
    "traj=LoadTrajectory(trajectory_path)\n",
    "view = nv.show_mdtraj(traj)\n",
    "box,view,fs=DisplayFullView(view)\n",
    "    \n",
    "listener = keyboard.Listener(on_press=on_press,on_release=on_release)\n",
    "listener.start()\n",
    "display(Javascript(\"Jupyter.notebook.execute_cells([1])\"))\n",
    "\n",
    "\n",
    "\n",
    "\n",
    "\n"
   ]
  },
  {
   "cell_type": "code",
   "execution_count": 3,
   "metadata": {},
   "outputs": [],
   "source": [
    "fs.fullscreen()\n",
    "FakeKeyboardInput()"
   ]
  },
  {
   "cell_type": "code",
   "execution_count": 7,
   "metadata": {},
   "outputs": [
    {
     "name": "stdout",
     "output_type": "stream",
     "text": [
      "here\n",
      "user_input esc\n"
     ]
    },
    {
     "ename": "KeyboardInterrupt",
     "evalue": "",
     "output_type": "error",
     "traceback": [
      "\u001b[1;31m---------------------------------------------------------------------------\u001b[0m",
      "\u001b[1;31mKeyboardInterrupt\u001b[0m                         Traceback (most recent call last)",
      "\u001b[1;32m<ipython-input-7-d20d174a5c87>\u001b[0m in \u001b[0;36m<module>\u001b[1;34m\u001b[0m\n\u001b[1;32m----> 1\u001b[1;33m \u001b[0mfs\u001b[0m\u001b[1;33m,\u001b[0m\u001b[0mtraj\u001b[0m\u001b[1;33m,\u001b[0m\u001b[0mview\u001b[0m\u001b[1;33m=\u001b[0m\u001b[0mStartPlayer\u001b[0m\u001b[1;33m(\u001b[0m\u001b[0mtraj\u001b[0m\u001b[1;33m,\u001b[0m\u001b[0mview\u001b[0m\u001b[1;33m,\u001b[0m\u001b[0mtrajectory_path\u001b[0m\u001b[1;33m,\u001b[0m\u001b[0mdelaytime\u001b[0m\u001b[1;33m,\u001b[0m\u001b[0mscreensleeptime\u001b[0m\u001b[1;33m,\u001b[0m\u001b[0mfs\u001b[0m\u001b[1;33m,\u001b[0m\u001b[0mbox\u001b[0m\u001b[1;33m)\u001b[0m\u001b[1;33m\u001b[0m\u001b[1;33m\u001b[0m\u001b[0m\n\u001b[0m\u001b[0;32m      2\u001b[0m \u001b[0mlistener\u001b[0m \u001b[1;33m=\u001b[0m \u001b[0mkeyboard\u001b[0m\u001b[1;33m.\u001b[0m\u001b[0mListener\u001b[0m\u001b[1;33m(\u001b[0m\u001b[0mon_press\u001b[0m\u001b[1;33m=\u001b[0m\u001b[0mon_press\u001b[0m\u001b[1;33m,\u001b[0m\u001b[0mon_release\u001b[0m\u001b[1;33m=\u001b[0m\u001b[0mon_release\u001b[0m\u001b[1;33m)\u001b[0m\u001b[1;33m\u001b[0m\u001b[1;33m\u001b[0m\u001b[0m\n\u001b[0;32m      3\u001b[0m \u001b[0mlistener\u001b[0m\u001b[1;33m.\u001b[0m\u001b[0mstart\u001b[0m\u001b[1;33m(\u001b[0m\u001b[1;33m)\u001b[0m\u001b[1;33m\u001b[0m\u001b[1;33m\u001b[0m\u001b[0m\n\u001b[0;32m      4\u001b[0m \u001b[0mFakeKeyboardInput\u001b[0m\u001b[1;33m(\u001b[0m\u001b[1;33m)\u001b[0m\u001b[1;33m\u001b[0m\u001b[1;33m\u001b[0m\u001b[0m\n\u001b[0;32m      5\u001b[0m \u001b[0mfs\u001b[0m\u001b[1;33m.\u001b[0m\u001b[0mfullscreen\u001b[0m\u001b[1;33m(\u001b[0m\u001b[1;33m)\u001b[0m\u001b[1;33m\u001b[0m\u001b[1;33m\u001b[0m\u001b[0m\n",
      "\u001b[1;32m<ipython-input-1-a3ea13055dd4>\u001b[0m in \u001b[0;36mStartPlayer\u001b[1;34m(traj, view, trajectory_path, delaytime, screensleeptime, fs, box)\u001b[0m\n\u001b[0;32m     63\u001b[0m             \u001b[1;32melse\u001b[0m\u001b[1;33m:\u001b[0m\u001b[1;33m\u001b[0m\u001b[1;33m\u001b[0m\u001b[0m\n\u001b[0;32m     64\u001b[0m                 \u001b[0mframes\u001b[0m\u001b[1;33m=\u001b[0m\u001b[0mtraj\u001b[0m\u001b[1;33m.\u001b[0m\u001b[0mn_frames\u001b[0m\u001b[1;33m\u001b[0m\u001b[1;33m\u001b[0m\u001b[0m\n\u001b[1;32m---> 65\u001b[1;33m                 \u001b[0mPlayTrajectory\u001b[0m\u001b[1;33m(\u001b[0m\u001b[0mframes\u001b[0m\u001b[1;33m,\u001b[0m\u001b[0mdelaytime\u001b[0m\u001b[1;33m,\u001b[0m\u001b[0mview\u001b[0m\u001b[1;33m)\u001b[0m\u001b[1;33m\u001b[0m\u001b[1;33m\u001b[0m\u001b[0m\n\u001b[0m\u001b[0;32m     66\u001b[0m         \u001b[1;32melse\u001b[0m\u001b[1;33m:\u001b[0m\u001b[1;33m\u001b[0m\u001b[1;33m\u001b[0m\u001b[0m\n\u001b[0;32m     67\u001b[0m             \u001b[0mframes\u001b[0m\u001b[1;33m=\u001b[0m\u001b[0mtraj\u001b[0m\u001b[1;33m.\u001b[0m\u001b[0mn_frames\u001b[0m\u001b[1;33m\u001b[0m\u001b[1;33m\u001b[0m\u001b[0m\n",
      "\u001b[1;32m<ipython-input-1-a3ea13055dd4>\u001b[0m in \u001b[0;36mPlayTrajectory\u001b[1;34m(frames, delaytime, view)\u001b[0m\n\u001b[0;32m     85\u001b[0m \u001b[1;32mdef\u001b[0m \u001b[0mPlayTrajectory\u001b[0m\u001b[1;33m(\u001b[0m\u001b[0mframes\u001b[0m\u001b[1;33m,\u001b[0m\u001b[0mdelaytime\u001b[0m\u001b[1;33m,\u001b[0m\u001b[0mview\u001b[0m\u001b[1;33m)\u001b[0m\u001b[1;33m:\u001b[0m\u001b[1;33m\u001b[0m\u001b[1;33m\u001b[0m\u001b[0m\n\u001b[0;32m     86\u001b[0m     \u001b[1;32mfor\u001b[0m \u001b[0mi\u001b[0m \u001b[1;32min\u001b[0m \u001b[0mrange\u001b[0m\u001b[1;33m(\u001b[0m\u001b[1;36m1\u001b[0m\u001b[1;33m,\u001b[0m\u001b[0mframes\u001b[0m\u001b[1;33m+\u001b[0m\u001b[1;36m1\u001b[0m\u001b[1;33m)\u001b[0m\u001b[1;33m:\u001b[0m\u001b[1;33m\u001b[0m\u001b[1;33m\u001b[0m\u001b[0m\n\u001b[1;32m---> 87\u001b[1;33m         \u001b[0mtime\u001b[0m\u001b[1;33m.\u001b[0m\u001b[0msleep\u001b[0m\u001b[1;33m(\u001b[0m\u001b[0mdelaytime\u001b[0m\u001b[1;33m)\u001b[0m\u001b[1;33m\u001b[0m\u001b[1;33m\u001b[0m\u001b[0m\n\u001b[0m\u001b[0;32m     88\u001b[0m         \u001b[0mview\u001b[0m\u001b[1;33m.\u001b[0m\u001b[0mframe\u001b[0m\u001b[1;33m=\u001b[0m\u001b[0mi\u001b[0m\u001b[1;33m\u001b[0m\u001b[1;33m\u001b[0m\u001b[0m\n\u001b[0;32m     89\u001b[0m \u001b[1;33m\u001b[0m\u001b[0m\n",
      "\u001b[1;31mKeyboardInterrupt\u001b[0m: "
     ]
    }
   ],
   "source": [
    "fs,traj,view=StartPlayer(traj,view,trajectory_path,delaytime,screensleeptime,fs,box)\n",
    "listener = keyboard.Listener(on_press=on_press,on_release=on_release)\n",
    "listener.start()\n",
    "FakeKeyboardInput()\n",
    "fs.fullscreen()\n"
   ]
  },
  {
   "cell_type": "code",
   "execution_count": 5,
   "metadata": {},
   "outputs": [
    {
     "data": {
      "application/javascript": [
       "Jupyter.notebook.execute_cells([2])"
      ],
      "text/plain": [
       "<IPython.core.display.Javascript object>"
      ]
     },
     "metadata": {},
     "output_type": "display_data"
    }
   ],
   "source": [
    "display(Javascript(\"Jupyter.notebook.execute_cells([2])\"))"
   ]
  },
  {
   "cell_type": "code",
   "execution_count": null,
   "metadata": {},
   "outputs": [],
   "source": []
  },
  {
   "cell_type": "code",
   "execution_count": null,
   "metadata": {},
   "outputs": [],
   "source": []
  },
  {
   "cell_type": "code",
   "execution_count": null,
   "metadata": {},
   "outputs": [],
   "source": []
  },
  {
   "cell_type": "code",
   "execution_count": null,
   "metadata": {},
   "outputs": [],
   "source": []
  }
 ],
 "metadata": {
  "celltoolbar": "Initialization Cell",
  "hide_input": false,
  "kernelspec": {
   "display_name": "Python 3",
   "language": "python",
   "name": "python3"
  },
  "language_info": {
   "codemirror_mode": {
    "name": "ipython",
    "version": 3
   },
   "file_extension": ".py",
   "mimetype": "text/x-python",
   "name": "python",
   "nbconvert_exporter": "python",
   "pygments_lexer": "ipython3",
   "version": "3.8.5"
  }
 },
 "nbformat": 4,
 "nbformat_minor": 4
}
