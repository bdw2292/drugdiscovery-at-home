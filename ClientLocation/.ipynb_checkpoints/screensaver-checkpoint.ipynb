{
 "cells": [
  {
   "cell_type": "code",
   "execution_count": 1,
   "metadata": {
    "init_cell": true,
    "scrolled": true
   },
   "outputs": [
    {
     "data": {
      "application/vnd.jupyter.widget-view+json": {
       "model_id": "0d0d69d7f36d4ccdb1f3766a84522ad8",
       "version_major": 2,
       "version_minor": 0
      },
      "text/plain": []
     },
     "metadata": {},
     "output_type": "display_data"
    },
    {
     "data": {
      "application/vnd.jupyter.widget-view+json": {
       "model_id": "f4eb58e425494e569c76e43da6e4b39e",
       "version_major": 2,
       "version_minor": 0
      },
      "text/plain": [
       "Fullscreen()"
      ]
     },
     "metadata": {},
     "output_type": "display_data"
    },
    {
     "data": {
      "text/html": [
       "\n",
       "    <style>\n",
       "    .abc {\n",
       "        background: white\n",
       "    }\n",
       "    </style>\n",
       "    "
      ],
      "text/plain": [
       "<IPython.core.display.HTML object>"
      ]
     },
     "metadata": {},
     "output_type": "display_data"
    },
    {
     "data": {
      "application/vnd.jupyter.widget-view+json": {
       "model_id": "fe839bf333404080979f1f1b68e964c1",
       "version_major": 2,
       "version_minor": 0
      },
      "text/plain": [
       "GridBox(children=(Box(children=(NGLWidget(layout=Layout(width='100%'), max_frame=3),)),), _dom_classes=('abc',…"
      ]
     },
     "metadata": {},
     "output_type": "display_data"
    },
    {
     "data": {
      "application/javascript": [
       "Jupyter.notebook.execute_cells([1])"
      ],
      "text/plain": [
       "<IPython.core.display.Javascript object>"
      ]
     },
     "execution_count": 1,
     "metadata": {},
     "output_type": "execute_result"
    }
   ],
   "source": [
    "import os\n",
    "import queue\n",
    "from ipywidgets import Textarea, Play, GridBox, GridspecLayout, Box\n",
    "from fullscreen import Fullscreen\n",
    "from IPython.display import display, HTML, clear_output, Javascript\n",
    "import nglview as nv\n",
    "import mdtraj as md\n",
    "import time\n",
    "import pyautogui\n",
    "from pynput import keyboard\n",
    "\n",
    "global user_input\n",
    "\n",
    "user_input=None\n",
    "\n",
    "def on_press(key):\n",
    "    global user_input\n",
    "    if key == keyboard.Key.esc:\n",
    "        user_input = 'esc'\n",
    "        \n",
    "def on_release(key):\n",
    "    if key == keyboard.Key.esc:\n",
    "        # Stop listener\n",
    "        return False\n",
    "\n",
    "def FakeKeyboardInput():\n",
    "    pyautogui.keyDown('shift')\n",
    "    time.sleep(.2)\n",
    "    pyautogui.keyDown('enter')\n",
    "    time.sleep(.2)\n",
    "    pyautogui.keyUp('shift')\n",
    "    time.sleep(.2)\n",
    "    pyautogui.keyUp('enter')\n",
    "    time.sleep(.2)\n",
    "\n",
    "    \n",
    "def StartPlayer(frames,view,delaytime):\n",
    "    listener = keyboard.Listener(on_press=on_press,on_release=on_release)\n",
    "    listener.start()\n",
    "    while True:\n",
    "        if user_input=='esc':\n",
    "            SendKillSignal()\n",
    "            break\n",
    "        PlayTrajectory(frames,delaytime,view)\n",
    "    return fs,traj,view\n",
    "        \n",
    "    \n",
    "                \n",
    "def PlayTrajectory(frames,delaytime,view):\n",
    "    for i in range(1,frames+1):\n",
    "        time.sleep(delaytime)\n",
    "        view.frame=i\n",
    "        \n",
    "def LoadTrajectory(trajectory_path):\n",
    "    traj=md.load_arc(trajectory_path)\n",
    "    return traj\n",
    "\n",
    "    \n",
    "def DisplayFullView(v):\n",
    "    v.layout.width = '100%'\n",
    "    b = GridBox([Box([v])])\n",
    "    fs = Fullscreen(b, [v])\n",
    "    display(fs)\n",
    "    b.add_class('abc')\n",
    "    display(HTML(\"\"\"\n",
    "    <style>\n",
    "    .abc {\n",
    "        background: white\n",
    "    }\n",
    "    </style>\n",
    "    \"\"\"))\n",
    "    display(b)\n",
    "    return b,v,fs\n",
    "\n",
    "def LocateARCFile():\n",
    "    files=os.listdir()\n",
    "    for f in files:\n",
    "        filename, file_extension = os.path.splitext(f)\n",
    "        if '.arc'==file_extension:\n",
    "            return f\n",
    "        \n",
    "def SendKillSignal():\n",
    "    temp=open('killbrowser.txt','w')\n",
    "    temp.close()\n",
    "        \n",
    "\n",
    "delaytime=.05\n",
    "trajectory_path=LocateARCFile()\n",
    "traj=LoadTrajectory(trajectory_path)\n",
    "frames=traj.n_frames \n",
    "view = nv.show_mdtraj(traj)\n",
    "box,view,fs=DisplayFullView(view)\n",
    "FakeKeyboardInput()\n",
    "\n"
   ]
  },
  {
   "cell_type": "code",
   "execution_count": 2,
   "metadata": {
    "scrolled": true
   },
   "outputs": [
    {
     "data": {
      "application/javascript": [
       "Jupyter.notebook.execute_cells([2])"
      ],
      "text/plain": [
       "<IPython.core.display.Javascript object>"
      ]
     },
     "execution_count": 2,
     "metadata": {},
     "output_type": "execute_result"
    }
   ],
   "source": [
    "fs.fullscreen()\n",
    "Javascript(\"Jupyter.notebook.execute_cells([2])\")"
   ]
  },
  {
   "cell_type": "code",
   "execution_count": null,
   "metadata": {},
   "outputs": [],
   "source": [
    "fs,traj,view=StartPlayer(frames,view,delaytime)"
   ]
  },
  {
   "cell_type": "code",
   "execution_count": null,
   "metadata": {},
   "outputs": [],
   "source": []
  }
 ],
 "metadata": {
  "celltoolbar": "Initialization Cell",
  "hide_input": true,
  "kernelspec": {
   "display_name": "Python 3",
   "language": "python",
   "name": "python3"
  },
  "language_info": {
   "codemirror_mode": {
    "name": "ipython",
    "version": 3
   },
   "file_extension": ".py",
   "mimetype": "text/x-python",
   "name": "python",
   "nbconvert_exporter": "python",
   "pygments_lexer": "ipython3",
   "version": "3.8.5"
  }
 },
 "nbformat": 4,
 "nbformat_minor": 4
}
